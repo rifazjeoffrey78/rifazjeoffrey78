{
  "cells": [
    {
      "cell_type": "markdown",
      "metadata": {
        "id": "SisJZgAosqLd"
      },
      "source": [
        "## Convolutional Neural Networks with Image Augmentation"
      ]
    },
    {
      "cell_type": "markdown",
      "metadata": {
        "id": "0O0aSHwNs2M8"
      },
      "source": [
        "## About the Data\n",
        "The original MNIST image dataset of handwritten digits is a popular benchmark for image-based machine learning methods but researchers have renewed efforts to update it and develop drop-in replacements that are more challenging for computer vision and optimal for real-world applications. In one recent replacement called the Fashion-MNIST dataset, researchers quoted the startling claim that \"Most pairs of MNIST digits (784 total pixels per sample) can be distinguished pretty well by just one pixel\". To encourage the community to develop more drop-in replacements, the Sign Language MNIST is presented here and follows the same .CSV format with labels and pixel values in single rows. The American Sign Language letter database of hand gestures represent a multi-class problem with 24 classes of letters (excluding J and Z which require motion).\n",
        "\n",
        "The full introduction can be seen here: https://www.kaggle.com/datamunge/sign-language-mnist/home\n",
        "\n",
        "This type of computations may be long, so it is recommended to start with timer setting so you will know how much time the script will take."
      ]
    },
    {
      "cell_type": "code",
      "execution_count": null,
      "metadata": {
        "id": "3pvLxLmgs6lW"
      },
      "outputs": [],
      "source": [
        "import time\n",
        "from time import perf_counter as timer"
      ]
    },
    {
      "cell_type": "code",
      "execution_count": null,
      "metadata": {
        "id": "zhOjOsqgs9w1"
      },
      "outputs": [],
      "source": [
        "import numpy as np\n",
        "import pandas as pd\n",
        "import matplotlib.pyplot as plt\n",
        "import seaborn as sns\n",
        "import os"
      ]
    },
    {
      "cell_type": "code",
      "execution_count": null,
      "metadata": {
        "colab": {
          "base_uri": "https://localhost:8080/",
          "height": 273
        },
        "id": "zw2WX-CqtmHq",
        "outputId": "bde2b415-b650-4051-c5a9-af7b21c46f20"
      },
      "outputs": [
        {
          "output_type": "stream",
          "name": "stdout",
          "text": [
            "Drive already mounted at /content/drive; to attempt to forcibly remount, call drive.mount(\"/content/drive\", force_remount=True).\n"
          ]
        },
        {
          "output_type": "execute_result",
          "data": {
            "text/plain": [
              "   label  pixel1  pixel2  pixel3  pixel4  pixel5  pixel6  pixel7  pixel8  \\\n",
              "0      3     107     118     127     134     139     143     146     150   \n",
              "1      6     155     157     156     156     156     157     156     158   \n",
              "2      2     187     188     188     187     187     186     187     188   \n",
              "3      2     211     211     212     212     211     210     211     210   \n",
              "4     13     164     167     170     172     176     179     180     184   \n",
              "\n",
              "   pixel9  ...  pixel775  pixel776  pixel777  pixel778  pixel779  pixel780  \\\n",
              "0     153  ...       207       207       207       207       206       206   \n",
              "1     158  ...        69       149       128        87        94       163   \n",
              "2     187  ...       202       201       200       199       198       199   \n",
              "3     210  ...       235       234       233       231       230       226   \n",
              "4     185  ...        92       105       105       108       133       163   \n",
              "\n",
              "   pixel781  pixel782  pixel783  pixel784  \n",
              "0       206       204       203       202  \n",
              "1       175       103       135       149  \n",
              "2       198       195       194       195  \n",
              "3       225       222       229       163  \n",
              "4       157       163       164       179  \n",
              "\n",
              "[5 rows x 785 columns]"
            ],
            "text/html": [
              "\n",
              "  <div id=\"df-82f6d0af-bfc5-45c3-a4b4-5c46b08bb9f8\" class=\"colab-df-container\">\n",
              "    <div>\n",
              "<style scoped>\n",
              "    .dataframe tbody tr th:only-of-type {\n",
              "        vertical-align: middle;\n",
              "    }\n",
              "\n",
              "    .dataframe tbody tr th {\n",
              "        vertical-align: top;\n",
              "    }\n",
              "\n",
              "    .dataframe thead th {\n",
              "        text-align: right;\n",
              "    }\n",
              "</style>\n",
              "<table border=\"1\" class=\"dataframe\">\n",
              "  <thead>\n",
              "    <tr style=\"text-align: right;\">\n",
              "      <th></th>\n",
              "      <th>label</th>\n",
              "      <th>pixel1</th>\n",
              "      <th>pixel2</th>\n",
              "      <th>pixel3</th>\n",
              "      <th>pixel4</th>\n",
              "      <th>pixel5</th>\n",
              "      <th>pixel6</th>\n",
              "      <th>pixel7</th>\n",
              "      <th>pixel8</th>\n",
              "      <th>pixel9</th>\n",
              "      <th>...</th>\n",
              "      <th>pixel775</th>\n",
              "      <th>pixel776</th>\n",
              "      <th>pixel777</th>\n",
              "      <th>pixel778</th>\n",
              "      <th>pixel779</th>\n",
              "      <th>pixel780</th>\n",
              "      <th>pixel781</th>\n",
              "      <th>pixel782</th>\n",
              "      <th>pixel783</th>\n",
              "      <th>pixel784</th>\n",
              "    </tr>\n",
              "  </thead>\n",
              "  <tbody>\n",
              "    <tr>\n",
              "      <th>0</th>\n",
              "      <td>3</td>\n",
              "      <td>107</td>\n",
              "      <td>118</td>\n",
              "      <td>127</td>\n",
              "      <td>134</td>\n",
              "      <td>139</td>\n",
              "      <td>143</td>\n",
              "      <td>146</td>\n",
              "      <td>150</td>\n",
              "      <td>153</td>\n",
              "      <td>...</td>\n",
              "      <td>207</td>\n",
              "      <td>207</td>\n",
              "      <td>207</td>\n",
              "      <td>207</td>\n",
              "      <td>206</td>\n",
              "      <td>206</td>\n",
              "      <td>206</td>\n",
              "      <td>204</td>\n",
              "      <td>203</td>\n",
              "      <td>202</td>\n",
              "    </tr>\n",
              "    <tr>\n",
              "      <th>1</th>\n",
              "      <td>6</td>\n",
              "      <td>155</td>\n",
              "      <td>157</td>\n",
              "      <td>156</td>\n",
              "      <td>156</td>\n",
              "      <td>156</td>\n",
              "      <td>157</td>\n",
              "      <td>156</td>\n",
              "      <td>158</td>\n",
              "      <td>158</td>\n",
              "      <td>...</td>\n",
              "      <td>69</td>\n",
              "      <td>149</td>\n",
              "      <td>128</td>\n",
              "      <td>87</td>\n",
              "      <td>94</td>\n",
              "      <td>163</td>\n",
              "      <td>175</td>\n",
              "      <td>103</td>\n",
              "      <td>135</td>\n",
              "      <td>149</td>\n",
              "    </tr>\n",
              "    <tr>\n",
              "      <th>2</th>\n",
              "      <td>2</td>\n",
              "      <td>187</td>\n",
              "      <td>188</td>\n",
              "      <td>188</td>\n",
              "      <td>187</td>\n",
              "      <td>187</td>\n",
              "      <td>186</td>\n",
              "      <td>187</td>\n",
              "      <td>188</td>\n",
              "      <td>187</td>\n",
              "      <td>...</td>\n",
              "      <td>202</td>\n",
              "      <td>201</td>\n",
              "      <td>200</td>\n",
              "      <td>199</td>\n",
              "      <td>198</td>\n",
              "      <td>199</td>\n",
              "      <td>198</td>\n",
              "      <td>195</td>\n",
              "      <td>194</td>\n",
              "      <td>195</td>\n",
              "    </tr>\n",
              "    <tr>\n",
              "      <th>3</th>\n",
              "      <td>2</td>\n",
              "      <td>211</td>\n",
              "      <td>211</td>\n",
              "      <td>212</td>\n",
              "      <td>212</td>\n",
              "      <td>211</td>\n",
              "      <td>210</td>\n",
              "      <td>211</td>\n",
              "      <td>210</td>\n",
              "      <td>210</td>\n",
              "      <td>...</td>\n",
              "      <td>235</td>\n",
              "      <td>234</td>\n",
              "      <td>233</td>\n",
              "      <td>231</td>\n",
              "      <td>230</td>\n",
              "      <td>226</td>\n",
              "      <td>225</td>\n",
              "      <td>222</td>\n",
              "      <td>229</td>\n",
              "      <td>163</td>\n",
              "    </tr>\n",
              "    <tr>\n",
              "      <th>4</th>\n",
              "      <td>13</td>\n",
              "      <td>164</td>\n",
              "      <td>167</td>\n",
              "      <td>170</td>\n",
              "      <td>172</td>\n",
              "      <td>176</td>\n",
              "      <td>179</td>\n",
              "      <td>180</td>\n",
              "      <td>184</td>\n",
              "      <td>185</td>\n",
              "      <td>...</td>\n",
              "      <td>92</td>\n",
              "      <td>105</td>\n",
              "      <td>105</td>\n",
              "      <td>108</td>\n",
              "      <td>133</td>\n",
              "      <td>163</td>\n",
              "      <td>157</td>\n",
              "      <td>163</td>\n",
              "      <td>164</td>\n",
              "      <td>179</td>\n",
              "    </tr>\n",
              "  </tbody>\n",
              "</table>\n",
              "<p>5 rows × 785 columns</p>\n",
              "</div>\n",
              "    <div class=\"colab-df-buttons\">\n",
              "\n",
              "  <div class=\"colab-df-container\">\n",
              "    <button class=\"colab-df-convert\" onclick=\"convertToInteractive('df-82f6d0af-bfc5-45c3-a4b4-5c46b08bb9f8')\"\n",
              "            title=\"Convert this dataframe to an interactive table.\"\n",
              "            style=\"display:none;\">\n",
              "\n",
              "  <svg xmlns=\"http://www.w3.org/2000/svg\" height=\"24px\" viewBox=\"0 -960 960 960\">\n",
              "    <path d=\"M120-120v-720h720v720H120Zm60-500h600v-160H180v160Zm220 220h160v-160H400v160Zm0 220h160v-160H400v160ZM180-400h160v-160H180v160Zm440 0h160v-160H620v160ZM180-180h160v-160H180v160Zm440 0h160v-160H620v160Z\"/>\n",
              "  </svg>\n",
              "    </button>\n",
              "\n",
              "  <style>\n",
              "    .colab-df-container {\n",
              "      display:flex;\n",
              "      gap: 12px;\n",
              "    }\n",
              "\n",
              "    .colab-df-convert {\n",
              "      background-color: #E8F0FE;\n",
              "      border: none;\n",
              "      border-radius: 50%;\n",
              "      cursor: pointer;\n",
              "      display: none;\n",
              "      fill: #1967D2;\n",
              "      height: 32px;\n",
              "      padding: 0 0 0 0;\n",
              "      width: 32px;\n",
              "    }\n",
              "\n",
              "    .colab-df-convert:hover {\n",
              "      background-color: #E2EBFA;\n",
              "      box-shadow: 0px 1px 2px rgba(60, 64, 67, 0.3), 0px 1px 3px 1px rgba(60, 64, 67, 0.15);\n",
              "      fill: #174EA6;\n",
              "    }\n",
              "\n",
              "    .colab-df-buttons div {\n",
              "      margin-bottom: 4px;\n",
              "    }\n",
              "\n",
              "    [theme=dark] .colab-df-convert {\n",
              "      background-color: #3B4455;\n",
              "      fill: #D2E3FC;\n",
              "    }\n",
              "\n",
              "    [theme=dark] .colab-df-convert:hover {\n",
              "      background-color: #434B5C;\n",
              "      box-shadow: 0px 1px 3px 1px rgba(0, 0, 0, 0.15);\n",
              "      filter: drop-shadow(0px 1px 2px rgba(0, 0, 0, 0.3));\n",
              "      fill: #FFFFFF;\n",
              "    }\n",
              "  </style>\n",
              "\n",
              "    <script>\n",
              "      const buttonEl =\n",
              "        document.querySelector('#df-82f6d0af-bfc5-45c3-a4b4-5c46b08bb9f8 button.colab-df-convert');\n",
              "      buttonEl.style.display =\n",
              "        google.colab.kernel.accessAllowed ? 'block' : 'none';\n",
              "\n",
              "      async function convertToInteractive(key) {\n",
              "        const element = document.querySelector('#df-82f6d0af-bfc5-45c3-a4b4-5c46b08bb9f8');\n",
              "        const dataTable =\n",
              "          await google.colab.kernel.invokeFunction('convertToInteractive',\n",
              "                                                    [key], {});\n",
              "        if (!dataTable) return;\n",
              "\n",
              "        const docLinkHtml = 'Like what you see? Visit the ' +\n",
              "          '<a target=\"_blank\" href=https://colab.research.google.com/notebooks/data_table.ipynb>data table notebook</a>'\n",
              "          + ' to learn more about interactive tables.';\n",
              "        element.innerHTML = '';\n",
              "        dataTable['output_type'] = 'display_data';\n",
              "        await google.colab.output.renderOutput(dataTable, element);\n",
              "        const docLink = document.createElement('div');\n",
              "        docLink.innerHTML = docLinkHtml;\n",
              "        element.appendChild(docLink);\n",
              "      }\n",
              "    </script>\n",
              "  </div>\n",
              "\n",
              "\n",
              "<div id=\"df-f5b5b21f-588c-4115-a969-0ad65fe68d7e\">\n",
              "  <button class=\"colab-df-quickchart\" onclick=\"quickchart('df-f5b5b21f-588c-4115-a969-0ad65fe68d7e')\"\n",
              "            title=\"Suggest charts\"\n",
              "            style=\"display:none;\">\n",
              "\n",
              "<svg xmlns=\"http://www.w3.org/2000/svg\" height=\"24px\"viewBox=\"0 0 24 24\"\n",
              "     width=\"24px\">\n",
              "    <g>\n",
              "        <path d=\"M19 3H5c-1.1 0-2 .9-2 2v14c0 1.1.9 2 2 2h14c1.1 0 2-.9 2-2V5c0-1.1-.9-2-2-2zM9 17H7v-7h2v7zm4 0h-2V7h2v10zm4 0h-2v-4h2v4z\"/>\n",
              "    </g>\n",
              "</svg>\n",
              "  </button>\n",
              "\n",
              "<style>\n",
              "  .colab-df-quickchart {\n",
              "      --bg-color: #E8F0FE;\n",
              "      --fill-color: #1967D2;\n",
              "      --hover-bg-color: #E2EBFA;\n",
              "      --hover-fill-color: #174EA6;\n",
              "      --disabled-fill-color: #AAA;\n",
              "      --disabled-bg-color: #DDD;\n",
              "  }\n",
              "\n",
              "  [theme=dark] .colab-df-quickchart {\n",
              "      --bg-color: #3B4455;\n",
              "      --fill-color: #D2E3FC;\n",
              "      --hover-bg-color: #434B5C;\n",
              "      --hover-fill-color: #FFFFFF;\n",
              "      --disabled-bg-color: #3B4455;\n",
              "      --disabled-fill-color: #666;\n",
              "  }\n",
              "\n",
              "  .colab-df-quickchart {\n",
              "    background-color: var(--bg-color);\n",
              "    border: none;\n",
              "    border-radius: 50%;\n",
              "    cursor: pointer;\n",
              "    display: none;\n",
              "    fill: var(--fill-color);\n",
              "    height: 32px;\n",
              "    padding: 0;\n",
              "    width: 32px;\n",
              "  }\n",
              "\n",
              "  .colab-df-quickchart:hover {\n",
              "    background-color: var(--hover-bg-color);\n",
              "    box-shadow: 0 1px 2px rgba(60, 64, 67, 0.3), 0 1px 3px 1px rgba(60, 64, 67, 0.15);\n",
              "    fill: var(--button-hover-fill-color);\n",
              "  }\n",
              "\n",
              "  .colab-df-quickchart-complete:disabled,\n",
              "  .colab-df-quickchart-complete:disabled:hover {\n",
              "    background-color: var(--disabled-bg-color);\n",
              "    fill: var(--disabled-fill-color);\n",
              "    box-shadow: none;\n",
              "  }\n",
              "\n",
              "  .colab-df-spinner {\n",
              "    border: 2px solid var(--fill-color);\n",
              "    border-color: transparent;\n",
              "    border-bottom-color: var(--fill-color);\n",
              "    animation:\n",
              "      spin 1s steps(1) infinite;\n",
              "  }\n",
              "\n",
              "  @keyframes spin {\n",
              "    0% {\n",
              "      border-color: transparent;\n",
              "      border-bottom-color: var(--fill-color);\n",
              "      border-left-color: var(--fill-color);\n",
              "    }\n",
              "    20% {\n",
              "      border-color: transparent;\n",
              "      border-left-color: var(--fill-color);\n",
              "      border-top-color: var(--fill-color);\n",
              "    }\n",
              "    30% {\n",
              "      border-color: transparent;\n",
              "      border-left-color: var(--fill-color);\n",
              "      border-top-color: var(--fill-color);\n",
              "      border-right-color: var(--fill-color);\n",
              "    }\n",
              "    40% {\n",
              "      border-color: transparent;\n",
              "      border-right-color: var(--fill-color);\n",
              "      border-top-color: var(--fill-color);\n",
              "    }\n",
              "    60% {\n",
              "      border-color: transparent;\n",
              "      border-right-color: var(--fill-color);\n",
              "    }\n",
              "    80% {\n",
              "      border-color: transparent;\n",
              "      border-right-color: var(--fill-color);\n",
              "      border-bottom-color: var(--fill-color);\n",
              "    }\n",
              "    90% {\n",
              "      border-color: transparent;\n",
              "      border-bottom-color: var(--fill-color);\n",
              "    }\n",
              "  }\n",
              "</style>\n",
              "\n",
              "  <script>\n",
              "    async function quickchart(key) {\n",
              "      const quickchartButtonEl =\n",
              "        document.querySelector('#' + key + ' button');\n",
              "      quickchartButtonEl.disabled = true;  // To prevent multiple clicks.\n",
              "      quickchartButtonEl.classList.add('colab-df-spinner');\n",
              "      try {\n",
              "        const charts = await google.colab.kernel.invokeFunction(\n",
              "            'suggestCharts', [key], {});\n",
              "      } catch (error) {\n",
              "        console.error('Error during call to suggestCharts:', error);\n",
              "      }\n",
              "      quickchartButtonEl.classList.remove('colab-df-spinner');\n",
              "      quickchartButtonEl.classList.add('colab-df-quickchart-complete');\n",
              "    }\n",
              "    (() => {\n",
              "      let quickchartButtonEl =\n",
              "        document.querySelector('#df-f5b5b21f-588c-4115-a969-0ad65fe68d7e button');\n",
              "      quickchartButtonEl.style.display =\n",
              "        google.colab.kernel.accessAllowed ? 'block' : 'none';\n",
              "    })();\n",
              "  </script>\n",
              "</div>\n",
              "\n",
              "    </div>\n",
              "  </div>\n"
            ],
            "application/vnd.google.colaboratory.intrinsic+json": {
              "type": "dataframe",
              "variable_name": "train"
            }
          },
          "metadata": {},
          "execution_count": 4
        }
      ],
      "source": [
        "from google.colab import drive\n",
        "drive.mount('/content/drive')\n",
        "train = pd.read_csv('../content/drive/MyDrive/MIT/Python/Image Classification/sign_mnist_train.csv')\n",
        "test = pd.read_csv('../content/drive/MyDrive/MIT/Python/Image Classification/sign_mnist_test.csv')\n",
        "train.head()"
      ]
    },
    {
      "cell_type": "markdown",
      "metadata": {
        "id": "c7Cg5jy3uiAD"
      },
      "source": []
    },
    {
      "cell_type": "markdown",
      "metadata": {
        "id": "o564d3gcuiFZ"
      },
      "source": [
        "Find the dimension of the dataframe:"
      ]
    },
    {
      "cell_type": "code",
      "execution_count": null,
      "metadata": {
        "colab": {
          "base_uri": "https://localhost:8080/"
        },
        "id": "5arxXt3rug7K",
        "outputId": "8f11b490-f278-47d0-d578-879e1d4d8994"
      },
      "outputs": [
        {
          "output_type": "execute_result",
          "data": {
            "text/plain": [
              "(27455, 785)"
            ]
          },
          "metadata": {},
          "execution_count": 5
        }
      ],
      "source": [
        "train.shape"
      ]
    },
    {
      "cell_type": "markdown",
      "metadata": {
        "id": "yHRmSeQIuxam"
      },
      "source": [
        "The train set is reworked to reduce data size. In particular, all images are in grayscale and their sizes are 28 * 28 pixels."
      ]
    },
    {
      "cell_type": "markdown",
      "metadata": {
        "id": "fipzisOAuzeU"
      },
      "source": [
        "## Data Preprocessing\n",
        "First, start to extract information from the data by looking at labels:"
      ]
    },
    {
      "cell_type": "code",
      "execution_count": null,
      "metadata": {
        "colab": {
          "base_uri": "https://localhost:8080/"
        },
        "id": "C5Z4UzkfumSg",
        "outputId": "33461780-dc20-4f68-da1d-dd58b19a5205"
      },
      "outputs": [
        {
          "output_type": "execute_result",
          "data": {
            "text/plain": [
              "array([ 0,  1,  2,  3,  4,  5,  6,  7,  8, 10, 11, 12, 13, 14, 15, 16, 17,\n",
              "       18, 19, 20, 21, 22, 23, 24])"
            ]
          },
          "metadata": {},
          "execution_count": 6
        }
      ],
      "source": [
        "labels = train['label'].values\n",
        "\n",
        "unique_val = np.array(labels)\n",
        "np.unique(unique_val)"
      ]
    },
    {
      "cell_type": "markdown",
      "metadata": {
        "id": "qprtfUfmu8vy"
      },
      "source": [
        "See if your data is balanced:"
      ]
    },
    {
      "cell_type": "code",
      "execution_count": null,
      "metadata": {
        "colab": {
          "base_uri": "https://localhost:8080/",
          "height": 664
        },
        "id": "mwcPH4n0u52q",
        "outputId": "402bb788-c5e0-411c-c85b-9595fc32eefe"
      },
      "outputs": [
        {
          "output_type": "execute_result",
          "data": {
            "text/plain": [
              "<Axes: ylabel='count'>"
            ]
          },
          "metadata": {},
          "execution_count": 7
        },
        {
          "output_type": "display_data",
          "data": {
            "text/plain": [
              "<Figure size 1800x800 with 1 Axes>"
            ],
            "image/png": "[encoded data removed]"
          },
          "metadata": {}
        }
      ],
      "source": [
        "plt.figure(figsize = (18,8))\n",
        "sns.countplot(x =labels)"
      ]
    },
    {
      "cell_type": "markdown",
      "metadata": {
        "id": "d78tN7d7vC5c"
      },
      "source": [
        "As you can see from the plot, all output numbers are about the same.\n",
        "\n",
        "For your CNN network you should create an output array with Label Binarizer from the labels."
      ]
    },
    {
      "cell_type": "code",
      "execution_count": null,
      "metadata": {
        "colab": {
          "base_uri": "https://localhost:8080/"
        },
        "id": "6rLcURc_vBCQ",
        "outputId": "cd017bd1-ca34-49db-9cf5-e19db31ad4a6"
      },
      "outputs": [
        {
          "output_type": "execute_result",
          "data": {
            "text/plain": [
              "array([[0, 0, 0, ..., 0, 0, 0],\n",
              "       [0, 0, 0, ..., 0, 0, 0],\n",
              "       [0, 0, 1, ..., 0, 0, 0],\n",
              "       ...,\n",
              "       [0, 0, 0, ..., 0, 0, 0],\n",
              "       [0, 0, 0, ..., 0, 0, 0],\n",
              "       [0, 0, 0, ..., 0, 1, 0]])"
            ]
          },
          "metadata": {},
          "execution_count": 9
        }
      ],
      "source": [
        "from sklearn.preprocessing import LabelBinarizer\n",
        "label_binrizer = LabelBinarizer()\n",
        "labels = label_binrizer.fit_transform(labels)\n",
        "labels"
      ]
    },
    {
      "cell_type": "markdown",
      "metadata": {
        "id": "dvLU12-9vHql"
      },
      "source": [
        "Now you can drop the label column from the 'train' set and work with the rest of data."
      ]
    },
    {
      "cell_type": "code",
      "execution_count": null,
      "metadata": {
        "id": "jenpNjPIvXlY"
      },
      "outputs": [],
      "source": [
        "train.drop('label', axis = 1, inplace = True)"
      ]
    },
    {
      "cell_type": "markdown",
      "metadata": {
        "id": "05cFScs2vZSI"
      },
      "source": [
        "Now take out the image information from the train object and put it into a numpy array. What is the data type? What are the range and dimensions?"
      ]
    },
    {
      "cell_type": "code",
      "execution_count": null,
      "metadata": {
        "colab": {
          "base_uri": "https://localhost:8080/"
        },
        "id": "pun0X7zMvkYl",
        "outputId": "6ec5136b-1d75-45db-eab3-5c68af0a9b49"
      },
      "outputs": [
        {
          "output_type": "stream",
          "name": "stdout",
          "text": [
            "int64 0 255 (27455, 784)\n"
          ]
        }
      ],
      "source": [
        "images = train.values\n",
        "print(images.dtype, np.round(images.min(), 4), np.round(images.max(), 4), images.shape)"
      ]
    },
    {
      "cell_type": "markdown",
      "metadata": {
        "id": "rrU9M7YIvnCc"
      },
      "source": [
        "Display the provided images in the first 5 rows:"
      ]
    },
    {
      "cell_type": "code",
      "execution_count": null,
      "metadata": {
        "colab": {
          "base_uri": "https://localhost:8080/",
          "height": 371
        },
        "id": "O8E_UPGSvoxy",
        "outputId": "b67e173e-8e59-4007-eb40-e7b50f9fe367"
      },
      "outputs": [
        {
          "output_type": "execute_result",
          "data": {
            "text/plain": [
              "Text(0.5, 0.98, 'Grayscale images')"
            ]
          },
          "metadata": {},
          "execution_count": 12
        },
        {
          "output_type": "display_data",
          "data": {
            "text/plain": [
              "<Figure size 1500x400 with 5 Axes>"
            ],
            "image/png": "[encoded data removed]"
          },
          "metadata": {}
        }
      ],
      "source": [
        "plt.style.use('grayscale')\n",
        "fig, axs = plt.subplots(1, 5, figsize=(15, 4), sharey=True)\n",
        "for i in range(5):\n",
        "        axs[i].imshow(images[i].reshape(28,28))\n",
        "fig.suptitle('Grayscale images')"
      ]
    },
    {
      "cell_type": "markdown",
      "metadata": {
        "id": "Pf9dNNYgvy-F"
      },
      "source": [
        "Normalize the data before applying the CNN. The data values range from 0 to 255, so you should normalize and divide every entry by 225:"
      ]
    },
    {
      "cell_type": "code",
      "execution_count": null,
      "metadata": {
        "id": "D9XXbsGxvyGk"
      },
      "outputs": [],
      "source": [
        "images =  images/255"
      ]
    },
    {
      "cell_type": "markdown",
      "metadata": {
        "id": "MHA18nhmv8GM"
      },
      "source": [
        "For validation during a model fitting you will need to divide your train set into two parts:"
      ]
    },
    {
      "cell_type": "code",
      "execution_count": null,
      "metadata": {
        "id": "JJKwOg0EwBOg"
      },
      "outputs": [],
      "source": [
        "from sklearn.model_selection import train_test_split\n",
        "x_train, x_test, y_train, y_test = train_test_split(images, labels, test_size = 0.3, stratify = labels, random_state = 7)"
      ]
    },
    {
      "cell_type": "markdown",
      "metadata": {
        "id": "zstyYdVywGTq"
      },
      "source": [
        "Now reshape the rows as square tables in order to use a Convolution Neural Network method:"
      ]
    },
    {
      "cell_type": "code",
      "execution_count": null,
      "metadata": {
        "id": "57eRkUkpwFba"
      },
      "outputs": [],
      "source": [
        "x_train = x_train.reshape(x_train.shape[0], 28, 28, 1)\n",
        "x_test = x_test.reshape(x_test.shape[0], 28, 28, 1)"
      ]
    },
    {
      "cell_type": "markdown",
      "metadata": {
        "id": "CME1BPncwUJL"
      },
      "source": [
        "## Convolutional Neural Network Model, or CNN\n",
        "\n",
        "For CNN, use the following Keras library:"
      ]
    },
    {
      "cell_type": "code",
      "execution_count": null,
      "metadata": {
        "id": "wtI1gS_Iwcz8"
      },
      "outputs": [],
      "source": [
        "import keras\n",
        "from keras.models import Sequential\n",
        "from keras.layers import Dense, Conv2D, MaxPooling2D, Flatten, Dropout"
      ]
    },
    {
      "cell_type": "markdown",
      "metadata": {
        "id": "9uko0lgvwftW"
      },
      "source": [
        "Set a number of classes, a batch size and a number of epochs:"
      ]
    },
    {
      "cell_type": "code",
      "execution_count": null,
      "metadata": {
        "id": "XhixqUESwhzF"
      },
      "outputs": [],
      "source": [
        "num_classes = 24\n",
        "batch_size = 125\n",
        "epochs = 50\n",
        "\n",
        "model = Sequential()\n",
        "model.add(Conv2D(64, kernel_size=(4,4), activation = 'relu', input_shape=(28, 28 ,1), padding='same' ))\n",
        "model.add(Dropout(0.4))\n",
        "model.add(MaxPooling2D(pool_size = (2, 2)))\n",
        "\n",
        "model.add(Conv2D(64, kernel_size = (4, 4), activation = 'relu', padding='same' ))\n",
        "model.add(Dropout(0.4))\n",
        "model.add(MaxPooling2D(pool_size = (2, 2)))\n",
        "\n",
        "model.add(Conv2D(64, kernel_size = (3, 3), activation = 'relu'))\n",
        "model.add(Dropout(0.4))\n",
        "model.add(MaxPooling2D(pool_size = (2, 2)))\n",
        "\n",
        "model.add(Flatten())\n",
        "model.add(Dense(128, activation = 'relu'))\n",
        "model.add(Dense(num_classes, activation = 'softmax'))\n",
        "model.compile(loss = keras.losses.categorical_crossentropy, optimizer='nadam',\n",
        "              metrics=['accuracy'])\n"
      ]
    },
    {
      "cell_type": "markdown",
      "metadata": {
        "id": "g1oiB0UxwojM"
      },
      "source": [
        "This part is for image augmentation during model fitting\n",
        "\n",
        "###Try adjusting these parameters and observe the difference in results"
      ]
    },
    {
      "cell_type": "code",
      "execution_count": null,
      "metadata": {
        "id": "gMlIPLa-wntk"
      },
      "outputs": [],
      "source": [
        "from keras.preprocessing.image import ImageDataGenerator\n",
        "train_datagen = ImageDataGenerator(shear_range = 0.25,\n",
        "                                   zoom_range = 0.15,\n",
        "                                   rotation_range = 15,\n",
        "                                   brightness_range = [0.15, 1.15],\n",
        "                                   width_shift_range = [-2,-1, 0, +1, +2],\n",
        "                                   height_shift_range = [ -1, 0, +1],\n",
        "                                   fill_mode = 'reflect')\n",
        "test_datagen = ImageDataGenerator()"
      ]
    },
    {
      "cell_type": "code",
      "execution_count": null,
      "metadata": {
        "colab": {
          "base_uri": "https://localhost:8080/"
        },
        "id": "u0kqk6ORwtP0",
        "outputId": "4b0fd527-a1c7-4043-8507-b3fba90df8a0"
      },
      "outputs": [
        {
          "output_type": "stream",
          "name": "stdout",
          "text": [
            "Epoch 1/50\n",
            "154/154 [==============================] - 94s 598ms/step - loss: 1.9751 - accuracy: 0.3944 - val_loss: 1.5746 - val_accuracy: 0.7696\n",
            "Epoch 2/50\n",
            "154/154 [==============================] - 88s 570ms/step - loss: 0.5360 - accuracy: 0.8169 - val_loss: 0.8375 - val_accuracy: 0.9325\n",
            "Epoch 3/50\n",
            "154/154 [==============================] - 92s 596ms/step - loss: 0.2473 - accuracy: 0.9149 - val_loss: 0.4997 - val_accuracy: 0.9834\n",
            "Epoch 4/50\n",
            "154/154 [==============================] - 88s 572ms/step - loss: 0.1479 - accuracy: 0.9509 - val_loss: 0.3465 - val_accuracy: 0.9951\n",
            "Epoch 5/50\n",
            "154/154 [==============================] - 85s 556ms/step - loss: 0.1015 - accuracy: 0.9675 - val_loss: 0.2517 - val_accuracy: 0.9994\n",
            "Epoch 6/50\n",
            "154/154 [==============================] - 91s 588ms/step - loss: 0.0746 - accuracy: 0.9755 - val_loss: 0.1922 - val_accuracy: 0.9992\n",
            "Epoch 7/50\n",
            "154/154 [==============================] - 90s 583ms/step - loss: 0.0566 - accuracy: 0.9820 - val_loss: 0.1499 - val_accuracy: 0.9996\n",
            "Epoch 8/50\n",
            "154/154 [==============================] - 90s 589ms/step - loss: 0.0464 - accuracy: 0.9842 - val_loss: 0.1060 - val_accuracy: 1.0000\n",
            "Epoch 9/50\n",
            "154/154 [==============================] - 87s 563ms/step - loss: 0.0394 - accuracy: 0.9871 - val_loss: 0.1095 - val_accuracy: 1.0000\n",
            "Epoch 10/50\n",
            "154/154 [==============================] - 88s 571ms/step - loss: 0.0374 - accuracy: 0.9878 - val_loss: 0.0737 - val_accuracy: 1.0000\n",
            "Epoch 11/50\n",
            "154/154 [==============================] - 90s 586ms/step - loss: 0.0270 - accuracy: 0.9917 - val_loss: 0.0687 - val_accuracy: 1.0000\n",
            "Epoch 12/50\n",
            "154/154 [==============================] - 90s 586ms/step - loss: 0.0260 - accuracy: 0.9918 - val_loss: 0.0641 - val_accuracy: 1.0000\n",
            "Epoch 13/50\n",
            "154/154 [==============================] - 90s 584ms/step - loss: 0.0225 - accuracy: 0.9926 - val_loss: 0.0604 - val_accuracy: 0.9999\n",
            "Epoch 14/50\n",
            "154/154 [==============================] - 91s 591ms/step - loss: 0.0205 - accuracy: 0.9935 - val_loss: 0.0452 - val_accuracy: 1.0000\n",
            "Epoch 15/50\n",
            "154/154 [==============================] - 87s 568ms/step - loss: 0.0234 - accuracy: 0.9922 - val_loss: 0.0582 - val_accuracy: 0.9985\n",
            "Epoch 16/50\n",
            "154/154 [==============================] - 90s 587ms/step - loss: 0.0206 - accuracy: 0.9934 - val_loss: 0.0560 - val_accuracy: 1.0000\n",
            "Epoch 17/50\n",
            "154/154 [==============================] - 91s 590ms/step - loss: 0.0158 - accuracy: 0.9948 - val_loss: 0.0445 - val_accuracy: 0.9999\n",
            "Epoch 18/50\n",
            "154/154 [==============================] - 86s 559ms/step - loss: 0.0158 - accuracy: 0.9945 - val_loss: 0.0340 - val_accuracy: 0.9999\n",
            "Epoch 19/50\n",
            "154/154 [==============================] - 91s 589ms/step - loss: 0.0158 - accuracy: 0.9945 - val_loss: 0.0377 - val_accuracy: 0.9999\n",
            "Epoch 20/50\n",
            "154/154 [==============================] - 87s 567ms/step - loss: 0.0158 - accuracy: 0.9950 - val_loss: 0.0367 - val_accuracy: 0.9999\n",
            "Epoch 21/50\n",
            "154/154 [==============================] - 91s 589ms/step - loss: 0.0109 - accuracy: 0.9973 - val_loss: 0.0262 - val_accuracy: 1.0000\n",
            "Epoch 22/50\n",
            "154/154 [==============================] - 91s 591ms/step - loss: 0.0118 - accuracy: 0.9966 - val_loss: 0.0199 - val_accuracy: 1.0000\n",
            "Epoch 23/50\n",
            "154/154 [==============================] - 90s 588ms/step - loss: 0.0152 - accuracy: 0.9951 - val_loss: 0.0278 - val_accuracy: 0.9999\n",
            "Epoch 24/50\n",
            "154/154 [==============================] - 91s 589ms/step - loss: 0.0130 - accuracy: 0.9956 - val_loss: 0.0169 - val_accuracy: 1.0000\n",
            "Epoch 25/50\n",
            "154/154 [==============================] - 91s 588ms/step - loss: 0.0116 - accuracy: 0.9962 - val_loss: 0.0238 - val_accuracy: 0.9993\n",
            "Epoch 26/50\n",
            "154/154 [==============================] - 85s 551ms/step - loss: 0.0123 - accuracy: 0.9958 - val_loss: 0.0197 - val_accuracy: 1.0000\n",
            "Epoch 27/50\n",
            "154/154 [==============================] - 88s 569ms/step - loss: 0.0133 - accuracy: 0.9956 - val_loss: 0.0215 - val_accuracy: 1.0000\n",
            "Epoch 28/50\n",
            "154/154 [==============================] - 85s 555ms/step - loss: 0.0124 - accuracy: 0.9961 - val_loss: 0.0206 - val_accuracy: 0.9999\n",
            "Epoch 29/50\n",
            "154/154 [==============================] - 88s 570ms/step - loss: 0.0088 - accuracy: 0.9968 - val_loss: 0.0120 - val_accuracy: 1.0000\n",
            "Epoch 30/50\n",
            "154/154 [==============================] - 85s 553ms/step - loss: 0.0138 - accuracy: 0.9956 - val_loss: 0.0229 - val_accuracy: 0.9989\n",
            "Epoch 31/50\n",
            "154/154 [==============================] - 91s 590ms/step - loss: 0.0166 - accuracy: 0.9941 - val_loss: 0.0103 - val_accuracy: 1.0000\n",
            "Epoch 32/50\n",
            "154/154 [==============================] - 87s 563ms/step - loss: 0.0115 - accuracy: 0.9961 - val_loss: 0.0092 - val_accuracy: 1.0000\n",
            "Epoch 33/50\n",
            "154/154 [==============================] - 85s 550ms/step - loss: 0.0104 - accuracy: 0.9972 - val_loss: 0.0121 - val_accuracy: 1.0000\n",
            "Epoch 34/50\n",
            "154/154 [==============================] - 90s 587ms/step - loss: 0.0105 - accuracy: 0.9966 - val_loss: 0.0199 - val_accuracy: 0.9996\n",
            "Epoch 35/50\n",
            "154/154 [==============================] - 85s 553ms/step - loss: 0.0145 - accuracy: 0.9949 - val_loss: 0.0109 - val_accuracy: 1.0000\n",
            "Epoch 36/50\n",
            "154/154 [==============================] - 90s 584ms/step - loss: 0.0160 - accuracy: 0.9946 - val_loss: 0.0144 - val_accuracy: 1.0000\n",
            "Epoch 37/50\n",
            "154/154 [==============================] - 90s 587ms/step - loss: 0.0132 - accuracy: 0.9956 - val_loss: 0.0152 - val_accuracy: 0.9999\n",
            "Epoch 38/50\n",
            "154/154 [==============================] - 89s 582ms/step - loss: 0.0071 - accuracy: 0.9977 - val_loss: 0.0084 - val_accuracy: 1.0000\n",
            "Epoch 39/50\n",
            "154/154 [==============================] - 85s 550ms/step - loss: 0.0076 - accuracy: 0.9973 - val_loss: 0.0068 - val_accuracy: 1.0000\n",
            "Epoch 40/50\n",
            "154/154 [==============================] - 89s 578ms/step - loss: 0.0149 - accuracy: 0.9956 - val_loss: 0.0111 - val_accuracy: 0.9999\n",
            "Epoch 41/50\n",
            "154/154 [==============================] - 89s 579ms/step - loss: 0.0117 - accuracy: 0.9960 - val_loss: 0.0110 - val_accuracy: 1.0000\n",
            "Epoch 42/50\n",
            "154/154 [==============================] - 85s 550ms/step - loss: 0.0077 - accuracy: 0.9975 - val_loss: 0.0049 - val_accuracy: 1.0000\n",
            "Epoch 43/50\n",
            "154/154 [==============================] - 87s 565ms/step - loss: 0.0119 - accuracy: 0.9964 - val_loss: 0.0072 - val_accuracy: 1.0000\n",
            "Epoch 44/50\n",
            "154/154 [==============================] - 89s 580ms/step - loss: 0.0078 - accuracy: 0.9973 - val_loss: 0.0047 - val_accuracy: 1.0000\n",
            "Epoch 45/50\n",
            "154/154 [==============================] - 85s 551ms/step - loss: 0.0094 - accuracy: 0.9971 - val_loss: 0.0051 - val_accuracy: 1.0000\n",
            "Epoch 46/50\n",
            "154/154 [==============================] - 91s 593ms/step - loss: 0.0090 - accuracy: 0.9967 - val_loss: 0.0036 - val_accuracy: 1.0000\n",
            "Epoch 47/50\n",
            "154/154 [==============================] - 87s 563ms/step - loss: 0.0149 - accuracy: 0.9958 - val_loss: 0.0075 - val_accuracy: 1.0000\n",
            "Epoch 48/50\n",
            "154/154 [==============================] - 91s 590ms/step - loss: 0.0130 - accuracy: 0.9958 - val_loss: 0.0069 - val_accuracy: 1.0000\n",
            "Epoch 49/50\n",
            "154/154 [==============================] - 88s 570ms/step - loss: 0.0064 - accuracy: 0.9979 - val_loss: 0.0050 - val_accuracy: 1.0000\n",
            "Epoch 50/50\n",
            "154/154 [==============================] - 90s 588ms/step - loss: 0.0079 - accuracy: 0.9975 - val_loss: 0.0051 - val_accuracy: 1.0000\n"
          ]
        }
      ],
      "source": [
        "history = model.fit(x_train, y_train, validation_data = (x_test, y_test), epochs=epochs, batch_size=batch_size)"
      ]
    },
    {
      "cell_type": "code",
      "execution_count": null,
      "metadata": {
        "colab": {
          "base_uri": "https://localhost:8080/",
          "height": 472
        },
        "id": "oLKhdoTDwwGG",
        "outputId": "92712caa-4e18-4c45-ac2a-7d6410ab4523"
      },
      "outputs": [
        {
          "output_type": "display_data",
          "data": {
            "text/plain": [
              "<Figure size 640x480 with 1 Axes>"
            ],
            "image/png": "[encoded data removed]"
          },
          "metadata": {}
        }
      ],
      "source": [
        "plt.style.use('tableau-colorblind10')\n",
        "plt.plot(history.history['accuracy'])\n",
        "plt.plot(history.history['val_accuracy'])\n",
        "plt.ylim(0.80, 1.05)\n",
        "plt.title(\"Accuracy\")\n",
        "plt.xlabel('epoch')\n",
        "plt.ylabel('accuracy')\n",
        "plt.legend(['train','test'])\n",
        "plt.show()"
      ]
    },
    {
      "cell_type": "markdown",
      "metadata": {
        "id": "s6AGmYm3wyDG"
      },
      "source": [
        "Validate with the test data. At first it must be preprocessed in the same way as the data for model fitting. This means that you must remove its label column, divide all values by 225, and the rows should be reshaped as square arrays."
      ]
    },
    {
      "cell_type": "code",
      "execution_count": null,
      "metadata": {
        "id": "8ozN-52ow0kn",
        "colab": {
          "base_uri": "https://localhost:8080/"
        },
        "outputId": "e04c4de9-779b-4742-d546-66ab6e938aa1"
      },
      "outputs": [
        {
          "output_type": "execute_result",
          "data": {
            "text/plain": [
              "(7172, 28, 28, 1)"
            ]
          },
          "metadata": {},
          "execution_count": 22
        }
      ],
      "source": [
        "test_labels = test['label']\n",
        "test.drop('label', axis = 1, inplace = True)\n",
        "test_images = test.values/255\n",
        "test_images = np.array([np.reshape(i, (28, 28)) for i in test_images])\n",
        "test_images = np.array([i.flatten() for i in test_images])\n",
        "test_labels = label_binrizer.fit_transform(test_labels)\n",
        "test_images = test_images.reshape(test_images.shape[0], 28, 28, 1)\n",
        "test_images.shape"
      ]
    },
    {
      "cell_type": "markdown",
      "metadata": {
        "id": "voIaPaLTw2n7"
      },
      "source": [
        "Here are the predictions and accuracy of the provided test set."
      ]
    },
    {
      "cell_type": "code",
      "execution_count": null,
      "metadata": {
        "id": "TRStT1ezw4kY",
        "colab": {
          "base_uri": "https://localhost:8080/"
        },
        "outputId": "8a320e72-40bd-4499-e62b-e95996edf1b3"
      },
      "outputs": [
        {
          "output_type": "stream",
          "name": "stdout",
          "text": [
            "225/225 [==============================] - 6s 26ms/step\n"
          ]
        },
        {
          "output_type": "execute_result",
          "data": {
            "text/plain": [
              "0.9802007808142778"
            ]
          },
          "metadata": {},
          "execution_count": 23
        }
      ],
      "source": [
        "y_pred = model.predict(test_images)\n",
        "from sklearn.metrics import accuracy_score\n",
        "y_pred = y_pred.round()\n",
        "accuracy_score(test_labels, y_pred)"
      ]
    }
  ],
  "metadata": {
    "colab": {
      "provenance": []
    },
    "kernelspec": {
      "display_name": "Python 3",
      "language": "python",
      "name": "python3"
    },
    "language_info": {
      "codemirror_mode": {
        "name": "ipython",
        "version": 3
      },
      "file_extension": ".py",
      "mimetype": "text/x-python",
      "name": "python",
      "nbconvert_exporter": "python",
      "pygments_lexer": "ipython3",
      "version": "3.6.9"
    }
  },
  "nbformat": 4,
  "nbformat_minor": 0
}